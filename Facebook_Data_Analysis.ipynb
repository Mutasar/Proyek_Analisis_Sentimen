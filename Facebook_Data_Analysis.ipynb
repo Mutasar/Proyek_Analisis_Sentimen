{
  "metadata": {
    "kernelspec": {
      "language": "python",
      "display_name": "Python 3",
      "name": "python3"
    },
    "language_info": {
      "name": "python",
      "version": "3.10.14",
      "mimetype": "text/x-python",
      "codemirror_mode": {
        "name": "ipython",
        "version": 3
      },
      "pygments_lexer": "ipython3",
      "nbconvert_exporter": "python",
      "file_extension": ".py"
    },
    "kaggle": {
      "accelerator": "none",
      "dataSources": [
        {
          "sourceId": 56227,
          "sourceType": "datasetVersion",
          "datasetId": 36954
        }
      ],
      "dockerImageVersionId": 30775,
      "isInternetEnabled": true,
      "language": "python",
      "sourceType": "notebook",
      "isGpuEnabled": false
    },
    "colab": {
      "name": "Facebook Data Analysis",
      "provenance": [],
      "include_colab_link": true
    }
  },
  "nbformat_minor": 0,
  "nbformat": 4,
  "cells": [
    {
      "cell_type": "markdown",
      "metadata": {
        "id": "view-in-github",
        "colab_type": "text"
      },
      "source": [
        "<a href=\"https://colab.research.google.com/github/Mutasar/Proyek_Analisis_Sentimen/blob/main/Facebook_Data_Analysis.ipynb\" target=\"_parent\"><img src=\"https://colab.research.google.com/assets/colab-badge.svg\" alt=\"Open In Colab\"/></a>"
      ]
    },
    {
      "cell_type": "markdown",
      "source": [
        "## Facebook Data Analysis Using Pandas"
      ],
      "metadata": {
        "id": "vq-T1m6c_dYh"
      }
    },
    {
      "cell_type": "markdown",
      "source": [
        "### Notebook Setup"
      ],
      "metadata": {
        "id": "Req1BUDQ_dYl"
      }
    },
    {
      "cell_type": "code",
      "source": [
        "# Importing Required Libraries\n",
        "\n",
        "import pandas as pd\n",
        "import numpy as np\n",
        "import matplotlib.pyplot as plt\n",
        "import seaborn as sns\n",
        "import warnings as ws\n",
        "ws.filterwarnings('ignore')\n",
        "\n",
        "print(\"Setup Complete!\")"
      ],
      "metadata": {
        "execution": {
          "iopub.status.busy": "2024-09-24T06:23:25.405216Z",
          "iopub.execute_input": "2024-09-24T06:23:25.405659Z",
          "iopub.status.idle": "2024-09-24T06:23:25.412474Z",
          "shell.execute_reply.started": "2024-09-24T06:23:25.405616Z",
          "shell.execute_reply": "2024-09-24T06:23:25.411374Z"
        },
        "trusted": true,
        "id": "im5ypWtI_dYm",
        "outputId": "136df95c-aeeb-4d84-d6eb-b4335b775435",
        "colab": {
          "base_uri": "https://localhost:8080/"
        }
      },
      "execution_count": null,
      "outputs": [
        {
          "output_type": "stream",
          "name": "stdout",
          "text": [
            "Setup Complete!\n"
          ]
        }
      ]
    },
    {
      "cell_type": "markdown",
      "source": [
        "### Loading DataSet"
      ],
      "metadata": {
        "id": "F440l0bU_dYn"
      }
    },
    {
      "cell_type": "code",
      "source": [
        "\n",
        "# Reading DataSet\n",
        "df = pd.read_csv(https://raw.githubusercontent.com/Mutasar/Proyek_Analisis_Sentimen/refs/heads/main/data/facebook.csv)\n",
        "\n",
        "# Displaying First 5 Rows\n",
        "df.head()"
      ],
      "metadata": {
        "execution": {
          "iopub.status.busy": "2024-09-24T06:23:30.773583Z",
          "iopub.execute_input": "2024-09-24T06:23:30.77414Z",
          "iopub.status.idle": "2024-09-24T06:23:30.93323Z",
          "shell.execute_reply.started": "2024-09-24T06:23:30.774098Z",
          "shell.execute_reply": "2024-09-24T06:23:30.931875Z"
        },
        "trusted": true,
        "id": "JopYAW6x_dYo",
        "outputId": "2d5c40a0-fcc1-4e75-9585-21dfbfe236f4",
        "colab": {
          "base_uri": "https://localhost:8080/",
          "height": 356
        }
      },
      "execution_count": null,
      "outputs": [
        {
          "output_type": "error",
          "ename": "FileNotFoundError",
          "evalue": "[Errno 2] No such file or directory: '/kaggle/input/facebook-data/pseudo_facebook.csv'",
          "traceback": [
            "\u001b[0;31m---------------------------------------------------------------------------\u001b[0m",
            "\u001b[0;31mFileNotFoundError\u001b[0m                         Traceback (most recent call last)",
            "\u001b[0;32m<ipython-input-3-a225463ed69d>\u001b[0m in \u001b[0;36m<cell line: 0>\u001b[0;34m()\u001b[0m\n\u001b[1;32m      3\u001b[0m \u001b[0;34m\u001b[0m\u001b[0m\n\u001b[1;32m      4\u001b[0m \u001b[0;31m# Reading DataSet\u001b[0m\u001b[0;34m\u001b[0m\u001b[0;34m\u001b[0m\u001b[0m\n\u001b[0;32m----> 5\u001b[0;31m \u001b[0mdf\u001b[0m \u001b[0;34m=\u001b[0m \u001b[0mpd\u001b[0m\u001b[0;34m.\u001b[0m\u001b[0mread_csv\u001b[0m\u001b[0;34m(\u001b[0m\u001b[0mfacebook\u001b[0m\u001b[0;34m,\u001b[0m \u001b[0mindex_col\u001b[0m \u001b[0;34m=\u001b[0m \u001b[0;34m'userid'\u001b[0m\u001b[0;34m)\u001b[0m\u001b[0;34m\u001b[0m\u001b[0;34m\u001b[0m\u001b[0m\n\u001b[0m\u001b[1;32m      6\u001b[0m \u001b[0;34m\u001b[0m\u001b[0m\n\u001b[1;32m      7\u001b[0m \u001b[0;31m# Displaying First 5 Rows\u001b[0m\u001b[0;34m\u001b[0m\u001b[0;34m\u001b[0m\u001b[0m\n",
            "\u001b[0;32m/usr/local/lib/python3.11/dist-packages/pandas/io/parsers/readers.py\u001b[0m in \u001b[0;36mread_csv\u001b[0;34m(filepath_or_buffer, sep, delimiter, header, names, index_col, usecols, dtype, engine, converters, true_values, false_values, skipinitialspace, skiprows, skipfooter, nrows, na_values, keep_default_na, na_filter, verbose, skip_blank_lines, parse_dates, infer_datetime_format, keep_date_col, date_parser, date_format, dayfirst, cache_dates, iterator, chunksize, compression, thousands, decimal, lineterminator, quotechar, quoting, doublequote, escapechar, comment, encoding, encoding_errors, dialect, on_bad_lines, delim_whitespace, low_memory, memory_map, float_precision, storage_options, dtype_backend)\u001b[0m\n\u001b[1;32m   1024\u001b[0m     \u001b[0mkwds\u001b[0m\u001b[0;34m.\u001b[0m\u001b[0mupdate\u001b[0m\u001b[0;34m(\u001b[0m\u001b[0mkwds_defaults\u001b[0m\u001b[0;34m)\u001b[0m\u001b[0;34m\u001b[0m\u001b[0;34m\u001b[0m\u001b[0m\n\u001b[1;32m   1025\u001b[0m \u001b[0;34m\u001b[0m\u001b[0m\n\u001b[0;32m-> 1026\u001b[0;31m     \u001b[0;32mreturn\u001b[0m \u001b[0m_read\u001b[0m\u001b[0;34m(\u001b[0m\u001b[0mfilepath_or_buffer\u001b[0m\u001b[0;34m,\u001b[0m \u001b[0mkwds\u001b[0m\u001b[0;34m)\u001b[0m\u001b[0;34m\u001b[0m\u001b[0;34m\u001b[0m\u001b[0m\n\u001b[0m\u001b[1;32m   1027\u001b[0m \u001b[0;34m\u001b[0m\u001b[0m\n\u001b[1;32m   1028\u001b[0m \u001b[0;34m\u001b[0m\u001b[0m\n",
            "\u001b[0;32m/usr/local/lib/python3.11/dist-packages/pandas/io/parsers/readers.py\u001b[0m in \u001b[0;36m_read\u001b[0;34m(filepath_or_buffer, kwds)\u001b[0m\n\u001b[1;32m    618\u001b[0m \u001b[0;34m\u001b[0m\u001b[0m\n\u001b[1;32m    619\u001b[0m     \u001b[0;31m# Create the parser.\u001b[0m\u001b[0;34m\u001b[0m\u001b[0;34m\u001b[0m\u001b[0m\n\u001b[0;32m--> 620\u001b[0;31m     \u001b[0mparser\u001b[0m \u001b[0;34m=\u001b[0m \u001b[0mTextFileReader\u001b[0m\u001b[0;34m(\u001b[0m\u001b[0mfilepath_or_buffer\u001b[0m\u001b[0;34m,\u001b[0m \u001b[0;34m**\u001b[0m\u001b[0mkwds\u001b[0m\u001b[0;34m)\u001b[0m\u001b[0;34m\u001b[0m\u001b[0;34m\u001b[0m\u001b[0m\n\u001b[0m\u001b[1;32m    621\u001b[0m \u001b[0;34m\u001b[0m\u001b[0m\n\u001b[1;32m    622\u001b[0m     \u001b[0;32mif\u001b[0m \u001b[0mchunksize\u001b[0m \u001b[0;32mor\u001b[0m \u001b[0miterator\u001b[0m\u001b[0;34m:\u001b[0m\u001b[0;34m\u001b[0m\u001b[0;34m\u001b[0m\u001b[0m\n",
            "\u001b[0;32m/usr/local/lib/python3.11/dist-packages/pandas/io/parsers/readers.py\u001b[0m in \u001b[0;36m__init__\u001b[0;34m(self, f, engine, **kwds)\u001b[0m\n\u001b[1;32m   1618\u001b[0m \u001b[0;34m\u001b[0m\u001b[0m\n\u001b[1;32m   1619\u001b[0m         \u001b[0mself\u001b[0m\u001b[0;34m.\u001b[0m\u001b[0mhandles\u001b[0m\u001b[0;34m:\u001b[0m \u001b[0mIOHandles\u001b[0m \u001b[0;34m|\u001b[0m \u001b[0;32mNone\u001b[0m \u001b[0;34m=\u001b[0m \u001b[0;32mNone\u001b[0m\u001b[0;34m\u001b[0m\u001b[0;34m\u001b[0m\u001b[0m\n\u001b[0;32m-> 1620\u001b[0;31m         \u001b[0mself\u001b[0m\u001b[0;34m.\u001b[0m\u001b[0m_engine\u001b[0m \u001b[0;34m=\u001b[0m \u001b[0mself\u001b[0m\u001b[0;34m.\u001b[0m\u001b[0m_make_engine\u001b[0m\u001b[0;34m(\u001b[0m\u001b[0mf\u001b[0m\u001b[0;34m,\u001b[0m \u001b[0mself\u001b[0m\u001b[0;34m.\u001b[0m\u001b[0mengine\u001b[0m\u001b[0;34m)\u001b[0m\u001b[0;34m\u001b[0m\u001b[0;34m\u001b[0m\u001b[0m\n\u001b[0m\u001b[1;32m   1621\u001b[0m \u001b[0;34m\u001b[0m\u001b[0m\n\u001b[1;32m   1622\u001b[0m     \u001b[0;32mdef\u001b[0m \u001b[0mclose\u001b[0m\u001b[0;34m(\u001b[0m\u001b[0mself\u001b[0m\u001b[0;34m)\u001b[0m \u001b[0;34m->\u001b[0m \u001b[0;32mNone\u001b[0m\u001b[0;34m:\u001b[0m\u001b[0;34m\u001b[0m\u001b[0;34m\u001b[0m\u001b[0m\n",
            "\u001b[0;32m/usr/local/lib/python3.11/dist-packages/pandas/io/parsers/readers.py\u001b[0m in \u001b[0;36m_make_engine\u001b[0;34m(self, f, engine)\u001b[0m\n\u001b[1;32m   1878\u001b[0m                 \u001b[0;32mif\u001b[0m \u001b[0;34m\"b\"\u001b[0m \u001b[0;32mnot\u001b[0m \u001b[0;32min\u001b[0m \u001b[0mmode\u001b[0m\u001b[0;34m:\u001b[0m\u001b[0;34m\u001b[0m\u001b[0;34m\u001b[0m\u001b[0m\n\u001b[1;32m   1879\u001b[0m                     \u001b[0mmode\u001b[0m \u001b[0;34m+=\u001b[0m \u001b[0;34m\"b\"\u001b[0m\u001b[0;34m\u001b[0m\u001b[0;34m\u001b[0m\u001b[0m\n\u001b[0;32m-> 1880\u001b[0;31m             self.handles = get_handle(\n\u001b[0m\u001b[1;32m   1881\u001b[0m                 \u001b[0mf\u001b[0m\u001b[0;34m,\u001b[0m\u001b[0;34m\u001b[0m\u001b[0;34m\u001b[0m\u001b[0m\n\u001b[1;32m   1882\u001b[0m                 \u001b[0mmode\u001b[0m\u001b[0;34m,\u001b[0m\u001b[0;34m\u001b[0m\u001b[0;34m\u001b[0m\u001b[0m\n",
            "\u001b[0;32m/usr/local/lib/python3.11/dist-packages/pandas/io/common.py\u001b[0m in \u001b[0;36mget_handle\u001b[0;34m(path_or_buf, mode, encoding, compression, memory_map, is_text, errors, storage_options)\u001b[0m\n\u001b[1;32m    871\u001b[0m         \u001b[0;32mif\u001b[0m \u001b[0mioargs\u001b[0m\u001b[0;34m.\u001b[0m\u001b[0mencoding\u001b[0m \u001b[0;32mand\u001b[0m \u001b[0;34m\"b\"\u001b[0m \u001b[0;32mnot\u001b[0m \u001b[0;32min\u001b[0m \u001b[0mioargs\u001b[0m\u001b[0;34m.\u001b[0m\u001b[0mmode\u001b[0m\u001b[0;34m:\u001b[0m\u001b[0;34m\u001b[0m\u001b[0;34m\u001b[0m\u001b[0m\n\u001b[1;32m    872\u001b[0m             \u001b[0;31m# Encoding\u001b[0m\u001b[0;34m\u001b[0m\u001b[0;34m\u001b[0m\u001b[0m\n\u001b[0;32m--> 873\u001b[0;31m             handle = open(\n\u001b[0m\u001b[1;32m    874\u001b[0m                 \u001b[0mhandle\u001b[0m\u001b[0;34m,\u001b[0m\u001b[0;34m\u001b[0m\u001b[0;34m\u001b[0m\u001b[0m\n\u001b[1;32m    875\u001b[0m                 \u001b[0mioargs\u001b[0m\u001b[0;34m.\u001b[0m\u001b[0mmode\u001b[0m\u001b[0;34m,\u001b[0m\u001b[0;34m\u001b[0m\u001b[0;34m\u001b[0m\u001b[0m\n",
            "\u001b[0;31mFileNotFoundError\u001b[0m: [Errno 2] No such file or directory: '/kaggle/input/facebook-data/pseudo_facebook.csv'"
          ]
        }
      ]
    },
    {
      "cell_type": "markdown",
      "source": [
        "### DataSet Exploratory Data Analysis (EDA)"
      ],
      "metadata": {
        "id": "q3BSaEK7_dYp"
      }
    },
    {
      "cell_type": "code",
      "source": [
        "# Display DataSet Shape (Rows, Columns)\n",
        "df.shape"
      ],
      "metadata": {
        "execution": {
          "iopub.status.busy": "2024-09-24T04:57:20.861946Z",
          "iopub.execute_input": "2024-09-24T04:57:20.862352Z",
          "iopub.status.idle": "2024-09-24T04:57:20.870473Z",
          "shell.execute_reply.started": "2024-09-24T04:57:20.862315Z",
          "shell.execute_reply": "2024-09-24T04:57:20.869123Z"
        },
        "trusted": true,
        "id": "xsMli3w1_dYq"
      },
      "execution_count": null,
      "outputs": []
    },
    {
      "cell_type": "code",
      "source": [
        "# Display DataSet Describtion\n",
        "df.describe()"
      ],
      "metadata": {
        "execution": {
          "iopub.status.busy": "2024-09-24T04:58:49.389574Z",
          "iopub.execute_input": "2024-09-24T04:58:49.390221Z",
          "iopub.status.idle": "2024-09-24T04:58:49.490306Z",
          "shell.execute_reply.started": "2024-09-24T04:58:49.390174Z",
          "shell.execute_reply": "2024-09-24T04:58:49.488839Z"
        },
        "trusted": true,
        "id": "52MBiVAt_dYr"
      },
      "execution_count": null,
      "outputs": []
    },
    {
      "cell_type": "code",
      "source": [
        "# Display DataSet Information\n",
        "df.info()"
      ],
      "metadata": {
        "execution": {
          "iopub.status.busy": "2024-09-24T05:00:47.889656Z",
          "iopub.execute_input": "2024-09-24T05:00:47.890178Z",
          "iopub.status.idle": "2024-09-24T05:00:47.923952Z",
          "shell.execute_reply.started": "2024-09-24T05:00:47.890128Z",
          "shell.execute_reply": "2024-09-24T05:00:47.922332Z"
        },
        "trusted": true,
        "id": "hIwJAiJD_dYs"
      },
      "execution_count": null,
      "outputs": []
    },
    {
      "cell_type": "code",
      "source": [
        "# Display Number of Distinct Element of All DataFrames\n",
        "df.nunique()"
      ],
      "metadata": {
        "execution": {
          "iopub.status.busy": "2024-09-24T05:02:49.634745Z",
          "iopub.execute_input": "2024-09-24T05:02:49.635192Z",
          "iopub.status.idle": "2024-09-24T05:02:49.665289Z",
          "shell.execute_reply.started": "2024-09-24T05:02:49.63515Z",
          "shell.execute_reply": "2024-09-24T05:02:49.663696Z"
        },
        "trusted": true,
        "id": "43qAjUJu_dYt"
      },
      "execution_count": null,
      "outputs": []
    },
    {
      "cell_type": "markdown",
      "source": [
        "### Handling Missing Values"
      ],
      "metadata": {
        "id": "d4_PgeSB_dYu"
      }
    },
    {
      "cell_type": "code",
      "source": [
        "# Display Missing Values In Each DataFrame\n",
        "df.isnull().sum()"
      ],
      "metadata": {
        "execution": {
          "iopub.status.busy": "2024-09-24T05:20:27.586907Z",
          "iopub.execute_input": "2024-09-24T05:20:27.587318Z",
          "iopub.status.idle": "2024-09-24T05:20:27.603843Z",
          "shell.execute_reply.started": "2024-09-24T05:20:27.587279Z",
          "shell.execute_reply": "2024-09-24T05:20:27.602324Z"
        },
        "trusted": true,
        "id": "23TXc9FD_dYu"
      },
      "execution_count": null,
      "outputs": []
    },
    {
      "cell_type": "code",
      "source": [
        "# Removing Missing Values\n",
        "nf = df.dropna()\n",
        "\n",
        "# Desplaying Missing Values After Handling\n",
        "nf.isnull().sum()"
      ],
      "metadata": {
        "execution": {
          "iopub.status.busy": "2024-09-24T06:36:26.402235Z",
          "iopub.execute_input": "2024-09-24T06:36:26.4027Z",
          "iopub.status.idle": "2024-09-24T06:36:26.430826Z",
          "shell.execute_reply.started": "2024-09-24T06:36:26.402636Z",
          "shell.execute_reply": "2024-09-24T06:36:26.429554Z"
        },
        "trusted": true,
        "id": "ekZ3gYkf_dYv"
      },
      "execution_count": null,
      "outputs": []
    },
    {
      "cell_type": "markdown",
      "source": [
        "### Grouping Ages"
      ],
      "metadata": {
        "id": "pnTXIjXN_dYw"
      }
    },
    {
      "cell_type": "code",
      "source": [
        "# Creating an Age Group Column\n",
        "age_gp=['10-20','21-30','31-40','41-50','51-60','61-70',\n",
        "        '71-80','81-90','91-100','101-110','111-120']\n",
        "\n",
        "# Column Specification\n",
        "nf['age_group'] = pd.cut(nf.age,bins=np.arange(10,121,10),\n",
        "                         labels=age_gp,right=True)\n",
        "\n",
        "# Column Display\n",
        "nf[['gender','age_group']].head()"
      ],
      "metadata": {
        "execution": {
          "iopub.status.busy": "2024-09-24T06:43:14.225267Z",
          "iopub.execute_input": "2024-09-24T06:43:14.225715Z",
          "iopub.status.idle": "2024-09-24T06:43:14.24895Z",
          "shell.execute_reply.started": "2024-09-24T06:43:14.225655Z",
          "shell.execute_reply": "2024-09-24T06:43:14.247502Z"
        },
        "trusted": true,
        "id": "5MdkRGgd_dYw"
      },
      "execution_count": null,
      "outputs": []
    },
    {
      "cell_type": "markdown",
      "source": [
        "### Visualizing Data"
      ],
      "metadata": {
        "id": "twMsXWPH_dYw"
      }
    },
    {
      "cell_type": "code",
      "source": [
        "#Visualiing Users According to Age Group\n",
        "\n",
        "plt.figure(figsize = (12, 10))\n",
        "sns.countplot(x = 'age_group', data = nf)\n",
        "plt.xlabel('Age Group', fontsize = 16, fontweight = 'bold')\n",
        "plt.ylabel('Number of Users',\n",
        "           fontsize = 16, fontweight = 'bold')\n",
        "plt.title(\"Number of Facebook Uers According to Age Group\",\n",
        "          fontsize = 16, fontweight = 'bold')"
      ],
      "metadata": {
        "execution": {
          "iopub.status.busy": "2024-09-24T06:44:36.480307Z",
          "iopub.execute_input": "2024-09-24T06:44:36.480808Z",
          "iopub.status.idle": "2024-09-24T06:44:36.95206Z",
          "shell.execute_reply.started": "2024-09-24T06:44:36.480763Z",
          "shell.execute_reply": "2024-09-24T06:44:36.950884Z"
        },
        "trusted": true,
        "id": "iWLYvJNS_dYx"
      },
      "execution_count": null,
      "outputs": []
    },
    {
      "cell_type": "code",
      "source": [
        "#Visualizing Male & Female Users According to Age Group\n",
        "\n",
        "age_gender = nf[['age_group',\n",
        "                 'gender']].value_counts().reset_index()\n",
        "plt.figure(figsize = (12, 10))\n",
        "sns.barplot(data = age_gender, x = 'age_group',\n",
        "            y = 'count', hue = 'gender')\n",
        "plt.xlabel('Male/Female Age Group',\n",
        "           fontsize = 16, fontweight = 'bold')\n",
        "plt.ylabel('Number of Users',\n",
        "           fontsize = 16, fontweight = 'bold')\n",
        "plt.title('Male & Female Users According to Age Group',\n",
        "           fontsize = 16, fontweight = 'bold')"
      ],
      "metadata": {
        "execution": {
          "iopub.status.busy": "2024-09-24T06:45:13.83335Z",
          "iopub.execute_input": "2024-09-24T06:45:13.833827Z",
          "iopub.status.idle": "2024-09-24T06:45:14.410092Z",
          "shell.execute_reply.started": "2024-09-24T06:45:13.833783Z",
          "shell.execute_reply": "2024-09-24T06:45:14.40869Z"
        },
        "trusted": true,
        "id": "3mDxul9V_dYy"
      },
      "execution_count": null,
      "outputs": []
    },
    {
      "cell_type": "code",
      "source": [
        "#Visualizing Distribution of Male Users VS Female Users\n",
        "\n",
        "users = nf['gender'].value_counts()\n",
        "plt.figure(figsize = (5, 5))\n",
        "plt.pie(users, labels = ['Male', 'Female'],\n",
        "        colors = ['gold', 'orchid'], autopct='%1.1f%%')\n",
        "plt.title('Distribution of Male Users VS Female Users')"
      ],
      "metadata": {
        "execution": {
          "iopub.status.busy": "2024-09-24T06:45:41.663292Z",
          "iopub.execute_input": "2024-09-24T06:45:41.663752Z",
          "iopub.status.idle": "2024-09-24T06:45:41.840545Z",
          "shell.execute_reply.started": "2024-09-24T06:45:41.663708Z",
          "shell.execute_reply": "2024-09-24T06:45:41.838958Z"
        },
        "trusted": true,
        "id": "MmHaSbOc_dYy"
      },
      "execution_count": null,
      "outputs": []
    }
  ]
}